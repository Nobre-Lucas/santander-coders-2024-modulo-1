{
  "cells": [
    {
      "cell_type": "markdown",
      "metadata": {
        "id": "QcN62PrTNuNr"
      },
      "source": [
        "# 💸 Projeto Final | Sistema de Controle Financeiro"
      ]
    },
    {
      "cell_type": "markdown",
      "metadata": {
        "id": "h-tcXISlOEy_"
      },
      "source": []
    },
    {
      "cell_type": "markdown",
      "metadata": {
        "id": "WIiiFL3bjKdy"
      },
      "source": [
        "# Etapa 1: Importação das Bibliotecas Necessárias e declaração de Lista para armazenar os registros"
      ]
    },
    {
      "cell_type": "markdown",
      "metadata": {
        "id": "qf65xdJ7anLy"
      },
      "source": [
        "Permitindo salvar o arquivo no drive"
      ]
    },
    {
      "cell_type": "code",
      "execution_count": null,
      "metadata": {
        "id": "lPpnpI0Mjo8J"
      },
      "outputs": [],
      "source": [
        "from google.colab import drive\n",
        "drive.mount('/content/drive')"
      ]
    },
    {
      "cell_type": "code",
      "execution_count": null,
      "metadata": {
        "id": "3Ohaz_RHjKdy"
      },
      "outputs": [],
      "source": [
        "import csv\n",
        "import json\n",
        "from datetime import datetime\n",
        "from enum import Enum\n",
        "from typing import Optional, Union, Literal, Dict"
      ]
    },
    {
      "cell_type": "code",
      "execution_count": null,
      "metadata": {
        "id": "5GFIY8zrjKdz"
      },
      "outputs": [],
      "source": [
        "registros = []\n",
        "\n",
        "class EnumTipoRegistro(Enum):\n",
        "    RECEITA = 'RECEITA'\n",
        "    DESPESAS = 'DESPESAS'\n",
        "    INVESTIMENTOS = 'INVESTIMENTOS'\n",
        "\n",
        "class EnumFiltragens(Enum):\n",
        "    DATA = 'DATA'\n",
        "    TIPO = 'TIPO'\n",
        "    VALOR = 'VALOR'"
      ]
    },
    {
      "cell_type": "markdown",
      "metadata": {
        "id": "Tq_gZlg3jKd0"
      },
      "source": [
        "# Etapa 2: Definição das Funções Básicas\n",
        "Função para Criar Novos Registros"
      ]
    },
    {
      "cell_type": "code",
      "execution_count": null,
      "metadata": {
        "id": "WI-IkuqwjKd0"
      },
      "outputs": [],
      "source": [
        "def criar_registro(tipo: EnumTipoRegistro, valor: float, registros_atuais: list, taxa: float = None, data_registro: datetime = datetime.now()) -> None:\n",
        "    \"\"\"\n",
        "        Cria um registro financeiro com base no tipo de transação e valor fornecidos.\n",
        "\n",
        "        Args:\n",
        "            tipo (EnumTipoRegistro): O tipo de registro, que pode ser RECEITA, DESPESAS ou INVESTIMENTO.\n",
        "            valor (float): O valor monetário do registro. Para despesas, o valor será convertido em negativo.\n",
        "            taxa (float): A taxa de rendimento para investimentos.\n",
        "            registros_atuais (list): A lista de registros que será atualizada com o novo registro.\n",
        "            data_registro (datetime, opcional): A data do registro. Se não for fornecida, a data atual será usada.\n",
        "\n",
        "        Returns:\n",
        "            None\n",
        "    \"\"\"\n",
        "    montante: Optional[float] = None\n",
        "\n",
        "    if tipo == EnumTipoRegistro.DESPESAS:\n",
        "        valor = -abs(valor)\n",
        "    elif tipo == EnumTipoRegistro.INVESTIMENTOS:\n",
        "        montante = calcular_rendimento(valor, data_registro, taxa)\n",
        "\n",
        "    registro = {\n",
        "        'DATA': data_registro.strftime('%Y-%m-%d'),\n",
        "        'DIA': data_registro.day,\n",
        "        'MES': data_registro.month,\n",
        "        'ANO': data_registro.year,\n",
        "        'TIPO': tipo.value,\n",
        "        'VALOR': valor,\n",
        "        'TAXA': taxa or 'X',\n",
        "        'MONTANTE': montante or 'X'\n",
        "    }\n",
        "\n",
        "    registros_atuais.append(registro)\n",
        "\n",
        "def calcular_rendimento(capital: float, data_investimento: datetime, taxa: float = 0.01) -> float:\n",
        "    \"\"\"\n",
        "        Calcula o montante de um investimento com base na capital inicial, data de investimento e taxa de rendimento.\n",
        "\n",
        "        Args:\n",
        "            capital (float): O valor inicial do investimento.\n",
        "            data_investimento (datetime): A data em que o investimento foi realizado.\n",
        "            taxa (float, opcional): A taxa de rendimento diária. O padrão é 0.01 (1%).\n",
        "\n",
        "        Returns:\n",
        "            float: O montante acumulado do investimento até a data atual.\n",
        "    \"\"\"\n",
        "    dias = (datetime.now() - data_investimento).days\n",
        "    montante = capital * (1 + taxa) ** dias\n",
        "    return montante"
      ]
    },
    {
      "cell_type": "markdown",
      "metadata": {
        "id": "MH56mnrKjKd0"
      },
      "source": [
        "Função para Ler Registros"
      ]
    },
    {
      "cell_type": "code",
      "execution_count": null,
      "metadata": {
        "id": "tKcI4eRLjKd1"
      },
      "outputs": [],
      "source": [
        "\n",
        "\n",
        "def ler_registros(filtro: EnumFiltragens, valor: Union[str, float, EnumTipoRegistro], registros: list) -> list:\n",
        "    \"\"\"\n",
        "        Filtra uma lista de registros financeiros com base no critério especificado.\n",
        "\n",
        "        Args:\n",
        "            filtro (EnumFiltragens): O critério de filtragem (DATA, TIPO, VALOR).\n",
        "            valor (Union[str, float, EnumTipoRegistro]): O valor a ser comparado para a filtragem.\n",
        "            registros (list): A lista de registros a ser filtrada.\n",
        "\n",
        "        Returns:\n",
        "            list: Uma lista de registros que correspondem ao critério de filtragem.\n",
        "    \"\"\"\n",
        "\n",
        "    def filtrar_por_data():\n",
        "        return [r for r in registros if r['data'] == valor]\n",
        "\n",
        "    def filtrar_por_tipo():\n",
        "        tipo_valor = valor.value if isinstance(valor, EnumTipoRegistro) else valor\n",
        "        return [r for r in registros if r['tipo'] == tipo_valor]\n",
        "\n",
        "    def filtrar_por_valor():\n",
        "        return [r for r in registros if r['valor'] == valor]\n",
        "\n",
        "    switch = {\n",
        "        EnumFiltragens.DATA: filtrar_por_data,\n",
        "        EnumFiltragens.TIPO: filtrar_por_tipo,\n",
        "        EnumFiltragens.VALOR: filtrar_por_valor\n",
        "    }\n",
        "\n",
        "    return switch.get(filtro, lambda: registros)()\n"
      ]
    },
    {
      "cell_type": "markdown",
      "metadata": {
        "id": "n-oBeIF7jKd1"
      },
      "source": [
        "Função para Atualizar Registros"
      ]
    },
    {
      "cell_type": "code",
      "execution_count": null,
      "metadata": {
        "id": "wmF9kgt-jKd1"
      },
      "outputs": [],
      "source": [
        "def atualizar_registro(indice: int, registros: list, tipo: Optional[EnumTipoRegistro] = None, valor: Optional[float] = None, taxa: Optional[float] = None) -> None:\n",
        "  \"\"\"\n",
        "    Atualiza um registro na lista de registros financeiros.\n",
        "\n",
        "    Args:\n",
        "        indice (int): O índice do registro a ser atualizado.\n",
        "        registros (list): A lista de registros financeiros.\n",
        "        tipo (Optional[EnumTipoRegistro]): O novo tipo de transação (opcional).\n",
        "        valor (Optional[float]): O novo valor da transação (opcional).\n",
        "  \"\"\"\n",
        "  if 0 <= indice < len(registros):\n",
        "    registro = registros[indice]\n",
        "\n",
        "    if tipo is not None:\n",
        "      if tipo == EnumTipoRegistro.INVESTIMENTOS:\n",
        "        registro['MONTANTE'] = calcular_rendimento(valor, datetime.now(), taxa)\n",
        "      registro[EnumFiltragens.TIPO.value] = tipo.value\n",
        "    if valor is not None:\n",
        "      registro[EnumFiltragens.VALOR.value] = valor if tipo != EnumTipoRegistro.DESPESAS else -abs(valor)\n",
        "\n",
        "    registro[EnumFiltragens.DATA.value] = datetime.now().strftime('%Y-%m-%d')\n",
        "  else:\n",
        "    raise IndexError(f\"Índice fora do intervalo: {indice}\")"
      ]
    },
    {
      "cell_type": "markdown",
      "metadata": {
        "id": "mLzI2Mk1jKd1"
      },
      "source": [
        "Função para Deletar Registros"
      ]
    },
    {
      "cell_type": "code",
      "execution_count": null,
      "metadata": {
        "id": "Wl2tO8MwjKd2"
      },
      "outputs": [],
      "source": [
        "def deletar_registro(indice: int, registros: list) -> None:\n",
        "    \"\"\"\n",
        "        Deleta um registro da lista de registros financeiros.\n",
        "\n",
        "        Args:\n",
        "            indice (int): O índice do registro a ser deletado.\n",
        "            registros (list): A lista de registros financeiros.\n",
        "    \"\"\"\n",
        "    if 0 <= indice < len(registros):\n",
        "        del registros[indice]\n",
        "    else:\n",
        "        raise IndexError(f\"Índice fora do intervalo: {indice}\")"
      ]
    },
    {
      "cell_type": "markdown",
      "metadata": {
        "id": "1Lu7wQjojKd2"
      },
      "source": [
        "# Etapa 3: Funções Adicionais\n",
        "\n",
        "Função para Atualizar Rendimento"
      ]
    },
    {
      "cell_type": "code",
      "execution_count": null,
      "metadata": {
        "id": "iihRQUuFjKd2"
      },
      "outputs": [],
      "source": [
        "def atualiza_rendimento(registros: list) -> None:\n",
        "    \"\"\"\n",
        "      Atualiza os valores de rendimento para todos os registros de investimento.\n",
        "\n",
        "      Args:\n",
        "        registros (list): A lista de registros financeiros.\n",
        "    \"\"\"\n",
        "    for registro in registros:\n",
        "        if registro['TIPO'] == EnumTipoRegistro.INVESTIMENTOS.value:\n",
        "            capital = registro['VALOR']\n",
        "            data_investimento = datetime.strptime(registro['DATA'], '%Y-%m-%d')\n",
        "            taxa = registro['TAXA']\n",
        "            registro['MONTANTE'] = round(calcular_rendimento(capital, data_investimento, taxa), 2)"
      ]
    },
    {
      "cell_type": "markdown",
      "metadata": {
        "id": "at8SZlSPjKd2"
      },
      "source": [
        "Função para Exportar Relatório"
      ]
    },
    {
      "cell_type": "code",
      "execution_count": null,
      "metadata": {
        "id": "7s9p2qCyjKd2"
      },
      "outputs": [],
      "source": [
        "def exportar_relatorio(formato: Literal['csv', 'json']  = 'csv') -> None:\n",
        "    \"\"\"\n",
        "        Exporta o relatório no formato especificado.\n",
        "\n",
        "        Args:\n",
        "            formato (Literal['csv', 'json']): O formato de exportação, 'csv' ou 'json'. O padrão é 'csv'.\n",
        "    \"\"\"\n",
        "    _exportar_csv() if formato == 'csv' else _exportar_json() if formato == 'json' else None\n",
        "\n",
        "def _exportar_csv() -> None:\n",
        "    \"\"\"\n",
        "        Exporta os registros para um arquivo CSV.\n",
        "    \"\"\"\n",
        "    with open('/content/drive/My Drive/relatorio.csv', mode='w', newline='') as file:\n",
        "        writer = csv.DictWriter(file, fieldnames=registros[0].keys())\n",
        "        writer.writeheader()\n",
        "        writer.writerows(registros)\n",
        "\n",
        "def _exportar_json() -> None:\n",
        "    \"\"\"\n",
        "        Exporta os registros para um arquivo JSON.\n",
        "    \"\"\"\n",
        "    with open('/content/drive/My Drive/relatorio.json', 'w') as file:\n",
        "        json.dump(registros, file, indent=4)"
      ]
    },
    {
      "cell_type": "markdown",
      "metadata": {
        "id": "MFNHc1RjjKd3"
      },
      "source": [
        "Função de Agrupamento"
      ]
    },
    {
      "cell_type": "code",
      "execution_count": null,
      "metadata": {
        "id": "bo1llfjNjKd3"
      },
      "outputs": [],
      "source": [
        "def agrupar_registros(registros: list, criterio: str) -> dict:\n",
        "    \"\"\"\n",
        "        Agrupa os registros por um critério especificado e calcula o total de valores para cada grupo.\n",
        "\n",
        "        Args:\n",
        "            registros (list): A lista de registros financeiros.\n",
        "            criterio (str): O critério de agrupamento ('TIPO', 'DIA', 'MES', 'ANO').\n",
        "\n",
        "        Returns:\n",
        "            dict: Um dicionário com o total de valores para cada grupo.\n",
        "    \"\"\"\n",
        "    agrupamento = {}\n",
        "    for registro in registros:\n",
        "        chave = registro.get(criterio)\n",
        "        if chave is not None:\n",
        "            if chave not in agrupamento:\n",
        "                agrupamento[chave] = 0\n",
        "            agrupamento[chave] += registro['VALOR']\n",
        "    return agrupamento"
      ]
    },
    {
      "cell_type": "markdown",
      "metadata": {
        "id": "rF2P3ZfpjKd3"
      },
      "source": [
        "# Etapa 4: Testando as Funções"
      ]
    },
    {
      "cell_type": "code",
      "execution_count": null,
      "metadata": {
        "id": "L7_WS6tYjKd3"
      },
      "outputs": [],
      "source": [
        "# Criando registros\n",
        "registros = []\n",
        "registros2 = []\n",
        "\n",
        "criar_registro(tipo = EnumTipoRegistro.RECEITA, valor = 500, registros_atuais = registros)\n",
        "criar_registro(tipo = EnumTipoRegistro.DESPESAS, valor = 100, registros_atuais = registros)\n",
        "criar_registro(tipo = EnumTipoRegistro.INVESTIMENTOS, valor = 20, registros_atuais = registros, taxa = 0.03)\n",
        "\n",
        "print(registros)\n",
        "\n",
        "criar_registro(EnumTipoRegistro.INVESTIMENTOS, 20, registros2, 0.08, datetime(2024, 8, 2))\n",
        "print(registros2)\n"
      ]
    },
    {
      "cell_type": "code",
      "execution_count": null,
      "metadata": {
        "id": "mj0K9ZQUjKd3"
      },
      "outputs": [],
      "source": [
        "# Criando registros e exportando para csv e json\n",
        "registros = []\n",
        "\n",
        "criar_registro(tipo = EnumTipoRegistro.RECEITA, valor = 500, registros_atuais = registros)\n",
        "criar_registro(tipo = EnumTipoRegistro.DESPESAS, valor = 100, registros_atuais = registros)\n",
        "criar_registro(tipo = EnumTipoRegistro.INVESTIMENTOS, valor = 10000, registros_atuais = registros, taxa = 0.045)\n",
        "\n",
        "exportar_relatorio('csv')\n",
        "exportar_relatorio('json')"
      ]
    },
    {
      "cell_type": "markdown",
      "metadata": {
        "id": "GS4w9541jKd3"
      },
      "source": [
        "Lendo Registros"
      ]
    },
    {
      "cell_type": "code",
      "execution_count": null,
      "metadata": {
        "id": "74JVHPjNjKd3"
      },
      "outputs": [],
      "source": [
        "# Exemplo de uso\n",
        "registros = [\n",
        "  {'data': '2024-08-13', 'tipo': 'RECEITA', 'valor': 1000},\n",
        "  {'data': '2024-08-13', 'tipo': 'DESPESAS', 'valor': -200},\n",
        "  {'data': '2024-08-15', 'tipo': 'INVESTIMENTOS', 'valor': 500, 'taxa': 0.03}\n",
        "]\n",
        "\n",
        "# Filtrando por tipo\n",
        "registrosFiltradosPorValor = ler_registros(EnumFiltragens.VALOR, -200, registros)\n",
        "registrosFiltradosPorTipo = ler_registros(EnumFiltragens.TIPO, EnumTipoRegistro.RECEITA, registros)\n",
        "registrosFiltradosPorData = ler_registros(EnumFiltragens.DATA, '2024-08-15', registros)\n",
        "\n",
        "print(registrosFiltradosPorValor, registrosFiltradosPorTipo, registrosFiltradosPorData, sep='\\n')"
      ]
    },
    {
      "cell_type": "markdown",
      "metadata": {
        "id": "7BOfZ0TJjKd4"
      },
      "source": [
        "Atualizando um Registro e deletando"
      ]
    },
    {
      "cell_type": "code",
      "execution_count": null,
      "metadata": {
        "id": "OgTrhrQ2jKd4"
      },
      "outputs": [],
      "source": [
        "registros = []\n",
        "criar_registro(EnumTipoRegistro.DESPESAS, 500, registros, datetime(2024, 8, 10))\n",
        "\n",
        "print(registros)\n",
        "\n",
        "atualizar_registro(0, registros, EnumTipoRegistro.INVESTIMENTOS, 1000, 0.05)\n",
        "\n",
        "print(registros)\n",
        "\n",
        "deletar_registro(0, registros)\n",
        "\n",
        "print(registros)"
      ]
    },
    {
      "cell_type": "markdown",
      "metadata": {
        "id": "wmJw7EKCjKd4"
      },
      "source": [
        "Agrupando por Tipo"
      ]
    },
    {
      "cell_type": "code",
      "execution_count": null,
      "metadata": {
        "id": "NI4RySNtjKd4"
      },
      "outputs": [],
      "source": [
        "#  Agrupando dados\n",
        "\n",
        "registros = []\n",
        "\n",
        "criar_registro(EnumTipoRegistro.RECEITA, 500, registros, datetime(2024, 1, 10))\n",
        "criar_registro(EnumTipoRegistro.RECEITA, 500, registros, datetime(2023, 3, 10))\n",
        "criar_registro(EnumTipoRegistro.DESPESAS, 100, registros, datetime(2023, 3, 10))\n",
        "criar_registro(EnumTipoRegistro.DESPESAS, 100, registros, datetime(2022, 3, 10))\n",
        "criar_registro(EnumTipoRegistro.INVESTIMENTOS, 20, registros, 0.076, datetime(2022, 4, 10))\n",
        "\n",
        "agrupamento = agrupar_registros(registros, 'TIPO')\n",
        "\n",
        "print(agrupamento)"
      ]
    },
    {
      "cell_type": "code",
      "execution_count": null,
      "metadata": {
        "id": "tkUOmMlPjKd4"
      },
      "outputs": [],
      "source": [
        "# atualizações de montantes\n",
        "\n",
        "registros = [\n",
        "  {'DATA': '2024-01-01', 'TIPO': 'RECEITA', 'VALOR': 1000.0, 'MONTANTE': 'X'},\n",
        "  {'DATA': '2024-02-01', 'TIPO': 'DESPESAS', 'VALOR': -500.0, 'MONTANTE': 'X'},\n",
        "  {'DATA': '2024-03-01', 'TIPO': 'INVESTIMENTOS', 'VALOR': 2000.0, 'TAXA': 0.008, 'MONTANTE': 2100.0},\n",
        "  {'DATA': '2024-04-01', 'TIPO': 'INVESTIMENTOS', 'VALOR': 1500.0, 'TAXA': 0.0125, 'MONTANTE': 1550.0}\n",
        "]\n",
        "\n",
        "for registro in registros:\n",
        "    print(registro)\n",
        "\n",
        "atualiza_rendimento(registros)\n",
        "\n",
        "for registro in registros:\n",
        "    print(registro)"
      ]
    },
    {
      "cell_type": "markdown",
      "metadata": {
        "id": "ykcZwmMAtPM8"
      },
      "source": [
        "# Extra: Transformando o nosso arquivo csv em google spreadsheet e salvando-o no google drive"
      ]
    },
    {
      "cell_type": "markdown",
      "metadata": {
        "id": "DSH-Yrq4aGTY"
      },
      "source": [
        "Importanto as bibliotecas"
      ]
    },
    {
      "cell_type": "code",
      "execution_count": null,
      "metadata": {
        "id": "vwVhNwn_pahX"
      },
      "outputs": [],
      "source": [
        "from google.colab import auth\n",
        "from googleapiclient.discovery import build\n",
        "from googleapiclient.http import MediaFileUpload\n"
      ]
    },
    {
      "cell_type": "markdown",
      "metadata": {
        "id": "PdexsR05aNum"
      },
      "source": [
        "Realizando a autenticação para salvar o arquivo no drive"
      ]
    },
    {
      "cell_type": "code",
      "execution_count": null,
      "metadata": {
        "id": "p97s5_OwaOiv"
      },
      "outputs": [],
      "source": [
        "auth.authenticate_user()\n",
        "\n",
        "drive_service = build('drive', 'v3')"
      ]
    },
    {
      "cell_type": "markdown",
      "metadata": {
        "id": "M24VkuLZaYXZ"
      },
      "source": [
        "Criando o arquivo .spreadsheet e salvando o mesmo no drive"
      ]
    },
    {
      "cell_type": "code",
      "execution_count": null,
      "metadata": {
        "id": "YdNnsZbopjHl"
      },
      "outputs": [],
      "source": [
        "file_path = '/content/drive/My Drive/relatorio.csv'\n",
        "\n",
        "file_metadata = {\n",
        "    'name': 'relatorio_financeiro_ada',\n",
        "    'mimeType': 'application/vnd.google-apps.spreadsheet'\n",
        "}\n",
        "\n",
        "media = MediaFileUpload(file_path, mimetype='text/csv', resumable=True)\n",
        "created_file = drive_service.files().create(body=file_metadata, media_body=media, fields='id').execute()\n",
        "\n",
        "print(f'Arquivo criado com ID: {created_file.get(\"id\")}')\n"
      ]
    },
    {
      "cell_type": "code",
      "execution_count": null,
      "metadata": {
        "id": "1FjlmCuvagpS"
      },
      "outputs": [],
      "source": []
    }
  ],
  "metadata": {
    "colab": {
      "private_outputs": true,
      "provenance": []
    },
    "kernelspec": {
      "display_name": "Python 3",
      "language": "python",
      "name": "python3"
    },
    "language_info": {
      "codemirror_mode": {
        "name": "ipython",
        "version": 3
      },
      "file_extension": ".py",
      "mimetype": "text/x-python",
      "name": "python",
      "nbconvert_exporter": "python",
      "pygments_lexer": "ipython3",
      "version": "3.10.9"
    }
  },
  "nbformat": 4,
  "nbformat_minor": 0
}
