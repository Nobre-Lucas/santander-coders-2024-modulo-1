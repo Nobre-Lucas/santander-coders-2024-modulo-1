{
 "cells": [
  {
   "cell_type": "markdown",
   "metadata": {},
   "source": [
    "# Santa Ada Bank"
   ]
  },
  {
   "cell_type": "code",
   "execution_count": 1,
   "metadata": {},
   "outputs": [],
   "source": [
    "import csv"
   ]
  },
  {
   "cell_type": "code",
   "execution_count": 22,
   "metadata": {},
   "outputs": [],
   "source": [
    "registros = []"
   ]
  },
  {
   "cell_type": "code",
   "execution_count": 23,
   "metadata": {},
   "outputs": [],
   "source": [
    "def criar_registro(tipo: str, valor: float):\n",
    "    \n",
    "    registro = []\n",
    "    TAXA = 0.02\n",
    "    tempo = 10 # TODO: tempo depois tem que ser calculado e não fixo\n",
    "\n",
    "    tipo_upper = tipo.upper()\n",
    "    registro.append('31/12/9999')\n",
    "    registro.append(tipo_upper)\n",
    "\n",
    "    if tipo_upper == 'RECEITA':\n",
    "        registro.append(valor)\n",
    "        registro.append('')\n",
    "    elif tipo_upper == 'DESPESAS':\n",
    "        registro.append(-valor)\n",
    "        registro.append('')\n",
    "    elif tipo_upper == 'INVESTIMENTO':\n",
    "        registro.append(valor)\n",
    "        \n",
    "        montante = valor * (1 + TAXA) ** tempo\n",
    "        registro.append(montante)\n",
    "    \n",
    "\n",
    "    registros.append(registro)"
   ]
  },
  {
   "cell_type": "code",
   "execution_count": 24,
   "metadata": {},
   "outputs": [
    {
     "name": "stdout",
     "output_type": "stream",
     "text": [
      "[['31/12/9999', 'RECEITA', 500, ''], ['31/12/9999', 'DESPESAS', -100, ''], ['31/12/9999', 'INVESTIMENTO', 10000, 12189.944199947573]]\n"
     ]
    }
   ],
   "source": [
    "criar_registro('receita', 500)\n",
    "criar_registro('despesas', 100)\n",
    "criar_registro('investimento', 10000)\n",
    "print(registros)"
   ]
  },
  {
   "cell_type": "code",
   "execution_count": 25,
   "metadata": {},
   "outputs": [],
   "source": [
    "with open('registros.csv', 'w', newline='') as csvfile:\n",
    "    spamwriter = csv.writer(csvfile, delimiter=';',\n",
    "                            quoting=csv.QUOTE_MINIMAL)\n",
    "    spamwriter.writerow(['Data', 'Tipo', 'Valor', 'Montante'])\n",
    "    for row in registros:\n",
    "        spamwriter.writerow(row)"
   ]
  },
  {
   "cell_type": "code",
   "execution_count": null,
   "metadata": {},
   "outputs": [],
   "source": [
    "def ler_registro():\n",
    "    pass\n",
    "\n",
    "def atualizar_registro():\n",
    "    pass\n",
    "\n",
    "def deletar_registro():\n",
    "    pass\n",
    "\n",
    "def atualizar_rendimento():\n",
    "    pass\n",
    "\n",
    "def exportar_relatorio():\n",
    "    pass"
   ]
  }
 ],
 "metadata": {
  "kernelspec": {
   "display_name": "Python 3",
   "language": "python",
   "name": "python3"
  },
  "language_info": {
   "codemirror_mode": {
    "name": "ipython",
    "version": 3
   },
   "file_extension": ".py",
   "mimetype": "text/x-python",
   "name": "python",
   "nbconvert_exporter": "python",
   "pygments_lexer": "ipython3",
   "version": "3.10.12"
  }
 },
 "nbformat": 4,
 "nbformat_minor": 2
}
