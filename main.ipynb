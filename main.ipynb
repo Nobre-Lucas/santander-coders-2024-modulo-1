{
  "cells": [
    {
      "cell_type": "markdown",
      "metadata": {
        "id": "QcN62PrTNuNr"
      },
      "source": [
        "# 💸 Projeto Final | Sistema de Controle Financeiro"
      ]
    },
    {
      "cell_type": "markdown",
      "metadata": {
        "id": "h-tcXISlOEy_"
      },
      "source": []
    },
    {
      "cell_type": "markdown",
      "metadata": {
        "id": "0k-NDo80RE90"
      },
      "source": [
        "# Etapa 1: Importação das Bibliotecas Necessárias e declaração de Lista para armazenar os registros"
      ]
    },
    {
      "cell_type": "markdown",
      "metadata": {
        "id": "-jAwA526RqMz"
      },
      "source": [
        "Permitindo salvar o arquivo no drive"
      ]
    },
    {
      "cell_type": "code",
      "execution_count": null,
      "metadata": {
        "id": "nkP1S-4jRlfy"
      },
      "outputs": [],
      "source": [
        "from google.colab import drive\n",
        "drive.mount('/content/drive')"
      ]
    },
    {
      "cell_type": "code",
      "execution_count": null,
      "metadata": {
        "id": "M1XLXaXmRE90"
      },
      "outputs": [],
      "source": [
        "import csv\n",
        "import json\n",
        "from datetime import datetime\n",
        "from enum import Enum\n",
        "from typing import Optional, Union, Literal, Dict\n",
        "from IPython.display import clear_output"
      ]
    },
    {
      "cell_type": "code",
      "execution_count": null,
      "metadata": {
        "id": "z6aH5sA1RE91"
      },
      "outputs": [],
      "source": [
        "registros = []\n",
        "\n",
        "class EnumTipoRegistro(Enum):\n",
        "    RECEITA = 'RECEITA'\n",
        "    DESPESAS = 'DESPESAS'\n",
        "    INVESTIMENTOS = 'INVESTIMENTOS'\n",
        "\n",
        "class EnumFiltragens(Enum):\n",
        "    DATA = 'DATA'\n",
        "    TIPO = 'TIPO'\n",
        "    VALOR = 'VALOR'"
      ]
    },
    {
      "cell_type": "markdown",
      "metadata": {
        "id": "Pm_gXkOTRE92"
      },
      "source": [
        "# Etapa 2: Definição das Funções Básicas\n",
        "Função para Criar Novos Registros"
      ]
    },
    {
      "cell_type": "code",
      "execution_count": null,
      "metadata": {
        "id": "Q8wIzTCrRE92"
      },
      "outputs": [],
      "source": [
        "def criar_registro(tipo: EnumTipoRegistro, valor: float, registros_atuais: list, taxa: float = None, data_registro: datetime = datetime.now()) -> None:\n",
        "    \"\"\"\n",
        "        Cria um registro financeiro com base no tipo de transação e valor fornecidos.\n",
        "\n",
        "        Args:\n",
        "            tipo (EnumTipoRegistro): O tipo de registro, que pode ser RECEITA, DESPESAS ou INVESTIMENTO.\n",
        "            valor (float): O valor monetário do registro. Para despesas, o valor será convertido em negativo.\n",
        "            taxa (float): A taxa de rendimento para investimentos.\n",
        "            registros_atuais (list): A lista de registros que será atualizada com o novo registro.\n",
        "            data_registro (datetime, opcional): A data do registro. Se não for fornecida, a data atual será usada.\n",
        "\n",
        "        Returns:\n",
        "            None\n",
        "    \"\"\"\n",
        "    montante: Optional[float] = None\n",
        "\n",
        "    if tipo == EnumTipoRegistro.DESPESAS:\n",
        "        valor = -abs(valor)\n",
        "    elif tipo == EnumTipoRegistro.INVESTIMENTOS:\n",
        "        montante = calcular_rendimento(valor, data_registro, taxa)\n",
        "\n",
        "    registro = {\n",
        "        'DATA': data_registro.strftime('%Y-%m-%d'),\n",
        "        'DIA': data_registro.day,\n",
        "        'MES': data_registro.month,\n",
        "        'ANO': data_registro.year,\n",
        "        'TIPO': tipo.value,\n",
        "        'VALOR': valor,\n",
        "        'TAXA': taxa or 'X',\n",
        "        'MONTANTE': montante or 'X'\n",
        "    }\n",
        "\n",
        "    registros_atuais.append(registro)\n",
        "\n",
        "def calcular_rendimento(capital: float, data_investimento: datetime, taxa: float = 0.01) -> float:\n",
        "    \"\"\"\n",
        "        Calcula o montante de um investimento com base na capital inicial, data de investimento e taxa de rendimento.\n",
        "\n",
        "        Args:\n",
        "            capital (float): O valor inicial do investimento.\n",
        "            data_investimento (datetime): A data em que o investimento foi realizado.\n",
        "            taxa (float, opcional): A taxa de rendimento diária. O padrão é 0.01 (1%).\n",
        "\n",
        "        Returns:\n",
        "            float: O montante acumulado do investimento até a data atual.\n",
        "    \"\"\"\n",
        "    dias = (datetime.now() - data_investimento).days\n",
        "    montante = round(capital * (1 + taxa) ** dias, 2)\n",
        "    return montante"
      ]
    },
    {
      "cell_type": "markdown",
      "metadata": {
        "id": "xVJMT7LfRE92"
      },
      "source": [
        "Função para Ler Registros"
      ]
    },
    {
      "cell_type": "code",
      "execution_count": null,
      "metadata": {
        "id": "ZMRnHqzyRE93"
      },
      "outputs": [],
      "source": [
        "\n",
        "\n",
        "def ler_registros(filtro: EnumFiltragens, valor: Union[str, float, EnumTipoRegistro], registros: list) -> list:\n",
        "    \"\"\"\n",
        "        Filtra uma lista de registros financeiros com base no critério especificado.\n",
        "\n",
        "        Args:\n",
        "            filtro (EnumFiltragens): O critério de filtragem (DATA, TIPO, VALOR).\n",
        "            valor (Union[str, float, EnumTipoRegistro]): O valor a ser comparado para a filtragem.\n",
        "            registros (list): A lista de registros a ser filtrada.\n",
        "\n",
        "        Returns:\n",
        "            list: Uma lista de registros que correspondem ao critério de filtragem.\n",
        "    \"\"\"\n",
        "\n",
        "    def filtrar_por_data():\n",
        "        return [r for r in registros if r['data'] == valor]\n",
        "\n",
        "    def filtrar_por_tipo():\n",
        "        tipo_valor = valor.value if isinstance(valor, EnumTipoRegistro) else valor\n",
        "        return [r for r in registros if r['tipo'] == tipo_valor]\n",
        "\n",
        "    def filtrar_por_valor():\n",
        "        return [r for r in registros if r['valor'] == valor]\n",
        "\n",
        "    switch = {\n",
        "        EnumFiltragens.DATA: filtrar_por_data,\n",
        "        EnumFiltragens.TIPO: filtrar_por_tipo,\n",
        "        EnumFiltragens.VALOR: filtrar_por_valor\n",
        "    }\n",
        "\n",
        "    return switch.get(filtro, lambda: registros)()\n"
      ]
    },
    {
      "cell_type": "markdown",
      "metadata": {
        "id": "-REnORz7RE93"
      },
      "source": [
        "Função para Atualizar Registros"
      ]
    },
    {
      "cell_type": "code",
      "execution_count": null,
      "metadata": {
        "id": "CVr18D7ZRE93"
      },
      "outputs": [],
      "source": [
        "def atualizar_registro(indice: int, registros: list, tipo: Optional[EnumTipoRegistro] = None, valor: Optional[float] = None, taxa: Optional[float] = None) -> None:\n",
        "  \"\"\"\n",
        "    Atualiza um registro na lista de registros financeiros.\n",
        "\n",
        "    Args:\n",
        "        indice (int): O índice do registro a ser atualizado.\n",
        "        registros (list): A lista de registros financeiros.\n",
        "        tipo (Optional[EnumTipoRegistro]): O novo tipo de transação (opcional).\n",
        "        valor (Optional[float]): O novo valor da transação (opcional).\n",
        "        taxa (Optional[float]): A nova taxa de rendimento (opcional).\n",
        "  \"\"\"\n",
        "  if 0 <= indice < len(registros):\n",
        "    registro = registros[indice]\n",
        "\n",
        "    if tipo is not None:\n",
        "      if tipo == EnumTipoRegistro.INVESTIMENTOS:\n",
        "        registro['MONTANTE'] = calcular_rendimento(valor, datetime.now(), taxa)\n",
        "      registro[EnumFiltragens.TIPO.value] = tipo.value\n",
        "    if valor is not None:\n",
        "      registro[EnumFiltragens.VALOR.value] = valor if tipo != EnumTipoRegistro.DESPESAS else -abs(valor)\n",
        "\n",
        "    registro[EnumFiltragens.DATA.value] = datetime.now().strftime('%Y-%m-%d')\n",
        "  else:\n",
        "    raise IndexError(f\"Índice fora do intervalo: {indice}\")"
      ]
    },
    {
      "cell_type": "markdown",
      "metadata": {
        "id": "SV9VsxjzRE94"
      },
      "source": [
        "Função para Deletar Registros"
      ]
    },
    {
      "cell_type": "code",
      "execution_count": null,
      "metadata": {
        "id": "r9nPVgobRE94"
      },
      "outputs": [],
      "source": [
        "def deletar_registro(indice: int, registros: list) -> None:\n",
        "    \"\"\"\n",
        "        Deleta um registro da lista de registros financeiros.\n",
        "\n",
        "        Args:\n",
        "            indice (int): O índice do registro a ser deletado.\n",
        "            registros (list): A lista de registros financeiros.\n",
        "    \"\"\"\n",
        "    if 0 <= indice < len(registros):\n",
        "        del registros[indice]\n",
        "    else:\n",
        "        raise IndexError(f\"Índice fora do intervalo: {indice}\")"
      ]
    },
    {
      "cell_type": "markdown",
      "metadata": {
        "id": "7yFV2rllRE94"
      },
      "source": [
        "# Etapa 3: Funções Adicionais\n",
        "\n",
        "Função para Atualizar Rendimento"
      ]
    },
    {
      "cell_type": "code",
      "execution_count": null,
      "metadata": {
        "id": "ofwXSVwRRE94"
      },
      "outputs": [],
      "source": [
        "def atualiza_rendimento(registros: list) -> None:\n",
        "    \"\"\"\n",
        "      Atualiza os valores de rendimento para todos os registros de investimento.\n",
        "\n",
        "      Args:\n",
        "        registros (list): A lista de registros financeiros.\n",
        "    \"\"\"\n",
        "    for registro in registros:\n",
        "        if registro['TIPO'] == EnumTipoRegistro.INVESTIMENTOS.value:\n",
        "            capital = registro['VALOR']\n",
        "            data_investimento = datetime.strptime(registro['DATA'], '%Y-%m-%d')\n",
        "            taxa = registro['TAXA']\n",
        "            registro['MONTANTE'] = round(calcular_rendimento(capital, data_investimento, taxa), 2)"
      ]
    },
    {
      "cell_type": "markdown",
      "metadata": {
        "id": "f4ilXYpvRE95"
      },
      "source": [
        "Função para Exportar Relatório"
      ]
    },
    {
      "cell_type": "code",
      "execution_count": null,
      "metadata": {
        "id": "Pon3xkXQRE95"
      },
      "outputs": [],
      "source": [
        "def exportar_relatorio(formato: Literal['csv', 'json']  = 'csv') -> None:\n",
        "    \"\"\"\n",
        "        Exporta o relatório no formato especificado.\n",
        "\n",
        "        Args:\n",
        "            formato (Literal['csv', 'json']): O formato de exportação, 'csv' ou 'json'. O padrão é 'csv'.\n",
        "    \"\"\"\n",
        "    _exportar_csv() if formato == 'csv' else _exportar_json() if formato == 'json' else None\n",
        "\n",
        "def _exportar_csv() -> None:\n",
        "    \"\"\"\n",
        "        Exporta os registros para um arquivo CSV.\n",
        "    \"\"\"\n",
        "    with open('relatorio.csv', mode='w', newline='') as file:\n",
        "        writer = csv.DictWriter(file, fieldnames=registros[0].keys())\n",
        "        writer.writeheader()\n",
        "        writer.writerows(registros)\n",
        "\n",
        "def _exportar_json() -> None:\n",
        "    \"\"\"\n",
        "        Exporta os registros para um arquivo JSON.\n",
        "    \"\"\"\n",
        "    with open('relatorio.json', 'w') as file:\n",
        "        json.dump(registros, file, indent=4)"
      ]
    },
    {
      "cell_type": "markdown",
      "metadata": {
        "id": "7vB_LdK7RE95"
      },
      "source": [
        "Função de Agrupamento"
      ]
    },
    {
      "cell_type": "code",
      "execution_count": null,
      "metadata": {
        "id": "VcJ6WSa0RE95"
      },
      "outputs": [],
      "source": [
        "def agrupar_registros(registros: list, criterio: str) -> dict:\n",
        "    \"\"\"\n",
        "        Agrupa os registros por um critério especificado e calcula o total de valores para cada grupo.\n",
        "\n",
        "        Args:\n",
        "            registros (list): A lista de registros financeiros.\n",
        "            criterio (str): O critério de agrupamento ('TIPO', 'DIA', 'MES', 'ANO').\n",
        "\n",
        "        Returns:\n",
        "            dict: Um dicionário com o total de valores para cada grupo.\n",
        "    \"\"\"\n",
        "    agrupamento = {}\n",
        "    for registro in registros:\n",
        "        chave = registro.get(criterio)\n",
        "        if chave is not None:\n",
        "            if chave not in agrupamento:\n",
        "                agrupamento[chave] = 0\n",
        "            agrupamento[chave] += registro['VALOR']\n",
        "    return agrupamento"
      ]
    },
    {
      "cell_type": "markdown",
      "metadata": {
        "id": "5oHoKmxPebfb"
      },
      "source": [
        "Função para printar o relatório no terminal"
      ]
    },
    {
      "cell_type": "code",
      "execution_count": null,
      "metadata": {
        "id": "nwPZXaz4bML3"
      },
      "outputs": [],
      "source": [
        "def printar_relatorio() -> None:\n",
        "    \"\"\"\n",
        "    Imprime o relatório de registros financeiros de forma tabular.\n",
        "\n",
        "    O relatório é lido de um arquivo CSV e formatado para exibição em uma tabela.\n",
        "\n",
        "    Args:\n",
        "        Nenhum argumento é necessário.\n",
        "    \"\"\"\n",
        "    idx = 0\n",
        "    with open(\"relatorio.csv\", mode='r') as arquivo_csv:\n",
        "        conteudo = csv.reader(arquivo_csv, delimiter=';')\n",
        "        for linha in conteudo:\n",
        "            linha = linha[0].replace(',', ' | ')\n",
        "            if idx == 0:\n",
        "                print(f\"{'Indice':<10} | {linha:<30}\")\n",
        "                print(f\"{'-'*80}\")\n",
        "            else:\n",
        "                print(f\"{idx:<10} | {linha:<30}\")\n",
        "            idx += 1"
      ]
    },
    {
      "cell_type": "code",
      "execution_count": null,
      "metadata": {
        "id": "PFGrpZKUBjd4"
      },
      "outputs": [],
      "source": [
        "printar_relatorio()"
      ]
    },
    {
      "cell_type": "markdown",
      "metadata": {
        "id": "Gacm6CBnRE95"
      },
      "source": [
        "# Etapa 4: Testando as Funções"
      ]
    },
    {
      "cell_type": "code",
      "execution_count": null,
      "metadata": {
        "id": "TiH-NLl1RE95"
      },
      "outputs": [],
      "source": [
        "registros = []"
      ]
    },
    {
      "cell_type": "code",
      "execution_count": null,
      "metadata": {
        "id": "sySBfdyERE96"
      },
      "outputs": [],
      "source": [
        "try:\n",
        "    tipo = input(\"Digite o tipo de registro (RECEITA, DESPESAS, INVESTIMENTOS): \").upper()\n",
        "    if tipo not in EnumTipoRegistro.__members__:\n",
        "        raise ValueError(\"Tipo de registro inválido.\")\n",
        "    tipo_registro = EnumTipoRegistro[tipo]\n",
        "\n",
        "    valor = float(input(\"Digite o valor: \"))\n",
        "    if valor <= 0:\n",
        "        raise ValueError(\"O valor deve ser positivo.\")\n",
        "\n",
        "    if tipo_registro == EnumTipoRegistro.INVESTIMENTOS:\n",
        "        taxa = float(input(\"Digite a taxa de rendimento: \"))\n",
        "        if taxa <= 0:\n",
        "            raise ValueError(\"A taxa de rendimento deve ser positiva.\")\n",
        "    else:\n",
        "        taxa = 'X'\n",
        "\n",
        "    data = input('Digite a data no formato dia/mês/ano ou deixe em branco para usar data atual')\n",
        "    if data.strip() != '':\n",
        "        try:\n",
        "            data_datetime = datetime.strptime(data, \"%d/%m/%Y\")\n",
        "            criar_registro(tipo_registro, valor, registros, taxa, data_datetime)\n",
        "        except ValueError:\n",
        "            criar_registro(tipo_registro, valor, registros, taxa)\n",
        "    else:\n",
        "        criar_registro(tipo_registro, valor, registros, taxa)\n",
        "\n",
        "\n",
        "\n",
        "\n",
        "except ValueError as ve:\n",
        "    print(f\"Erro de valor: {ve}\")\n",
        "except Exception as e:\n",
        "    print(f\"Ocorreu um erro: {e}\")\n",
        "\n",
        "print(registros)"
      ]
    },
    {
      "cell_type": "code",
      "execution_count": null,
      "metadata": {
        "id": "bYgbibnxRE96"
      },
      "outputs": [],
      "source": [
        "exportar_relatorio('csv')\n",
        "exportar_relatorio('json')"
      ]
    },
    {
      "cell_type": "markdown",
      "metadata": {
        "id": "ShQ2dGg8RE96"
      },
      "source": [
        "Lendo Registros"
      ]
    },
    {
      "cell_type": "code",
      "execution_count": null,
      "metadata": {
        "id": "pVsTxkqPRE96"
      },
      "outputs": [],
      "source": [
        "registrosFiltrados = []\n",
        "\n",
        "try:\n",
        "    tipo_filtro = input(\"Deseja filtrar por Valor, Tipo ou Data? \").strip().upper()\n",
        "\n",
        "    if tipo_filtro == 'VALOR':\n",
        "        valor_filtro = float(input(\"Digite o valor para filtrar os registros: \"))\n",
        "        for registro in registros:\n",
        "            if registro[\"VALOR\"] == valor_filtro:\n",
        "                registrosFiltrados.append(registro)\n",
        "\n",
        "    elif tipo_filtro == 'TIPO':\n",
        "        tipo_registro_filtro = input(\"Digite o tipo de registro para filtrar (RECEITA, DESPESAS, INVESTIMENTOS): \").upper()\n",
        "        if tipo_registro_filtro not in EnumTipoRegistro.__members__:\n",
        "            raise ValueError(\"Tipo de registro inválido.\")\n",
        "        for registro in registros:\n",
        "            if registro[\"TIPO\"] == tipo_registro_filtro:\n",
        "                registrosFiltrados.append(registro)\n",
        "\n",
        "    elif tipo_filtro == 'DATA':\n",
        "        data_filtro_str = input(\"Digite a data para filtrar os registros (dia/mês/ano): \")\n",
        "        data_filtro = datetime.strptime(data_filtro_str, \"%d/%m/%Y\").strftime('%Y-%m-%d')\n",
        "        for registro in registros:\n",
        "            if registro[\"DATA\"] == data_filtro:\n",
        "                registrosFiltrados.append(registro)\n",
        "    else:\n",
        "        raise ValueError(\"Opção de filtro inválida.\")\n",
        "\n",
        "except ValueError as ve:\n",
        "    print(f\"Erro de valor: {ve}\")\n",
        "except Exception as e:\n",
        "    print(f\"Ocorreu um erro: {e}\")\n",
        "\n",
        "print(registrosFiltrados)"
      ]
    },
    {
      "cell_type": "markdown",
      "metadata": {
        "id": "99GFjXmbRE96"
      },
      "source": [
        "Atualizando um Registro e deletando"
      ]
    },
    {
      "cell_type": "code",
      "execution_count": null,
      "metadata": {
        "id": "m7k2x6JDRE96"
      },
      "outputs": [],
      "source": [
        "try:\n",
        "    acao = input(\"Você deseja Atualizar ou Deletar um registro? \").strip().upper()\n",
        "    if acao.upper() not in ['ATUALIZAR', 'DELETAR']:\n",
        "        raise ValueError(\"Ação inválida.\")\n",
        "    else:\n",
        "      printar_relatorio()\n",
        "      if acao == 'ATUALIZAR':\n",
        "          index = int(input(\"Digite o índice do registro que deseja atualizar: \")) - 1\n",
        "          if index < 0 or index >= len(registros):\n",
        "              raise IndexError(\"Índice inválido.\")\n",
        "\n",
        "          novo_tipo = input(\"Digite o novo tipo de registro (RECEITA, DESPESAS, INVESTIMENTOS): \").upper()\n",
        "          if novo_tipo not in EnumTipoRegistro.__members__:\n",
        "              raise ValueError(\"Tipo de registro inválido.\")\n",
        "          tipo_registro = EnumTipoRegistro[novo_tipo]\n",
        "\n",
        "          novo_valor = float(input(\"Digite o novo valor: \"))\n",
        "          if novo_valor <= 0:\n",
        "              raise ValueError(\"O valor deve ser positivo.\")\n",
        "\n",
        "          if novo_tipo.upper() == 'INVESTIMENTOS':\n",
        "              nova_taxa = float(input(\"Digite a nova taxa de rendimento: \"))\n",
        "              if nova_taxa <= 0:\n",
        "                  raise ValueError(\"A taxa de rendimento deve ser positiva.\")\n",
        "\n",
        "          atualizar_registro(index, registros, EnumTipoRegistro[novo_tipo], novo_valor)\n",
        "\n",
        "      elif acao == 'DELETAR':\n",
        "          index = int(input(\"Digite o índice do registro que deseja deletar: \")) - 1\n",
        "          if index < 0 or index >= len(registros):\n",
        "              raise IndexError(\"Índice inválido.\")\n",
        "\n",
        "          del registros[index]\n",
        "\n",
        "      else:\n",
        "          raise ValueError(\"Ação inválida.\")\n",
        "\n",
        "except ValueError as ve:\n",
        "    print(f\"Erro de valor: {ve}\")\n",
        "except IndexError as ie:\n",
        "    print(f\"Erro de índice: {ie}\")\n",
        "except Exception as e:\n",
        "    print(f\"Ocorreu um erro: {e}\")\n",
        "\n",
        "print(registros)"
      ]
    },
    {
      "cell_type": "code",
      "execution_count": null,
      "metadata": {
        "id": "PhRZ1L44jOY1"
      },
      "outputs": [],
      "source": [
        "exportar_relatorio('csv')\n",
        "exportar_relatorio('json')"
      ]
    },
    {
      "cell_type": "markdown",
      "metadata": {
        "id": "AqcEUcUURE97"
      },
      "source": [
        "Agrupando por Tipo"
      ]
    },
    {
      "cell_type": "code",
      "execution_count": null,
      "metadata": {
        "id": "bIVNbtJxRE97"
      },
      "outputs": [],
      "source": [
        "try:\n",
        "    tipo_agrupamento = input('Você deseja agrupar os registros por Valor, Tipo ou Data? ').strip().upper()\n",
        "\n",
        "    if tipo_agrupamento == 'VALOR':\n",
        "        agrupamento = agrupar_registros(registros, 'VALOR')\n",
        "\n",
        "    elif tipo_agrupamento == 'TIPO':\n",
        "        agrupamento = agrupar_registros(registros, 'TIPO')\n",
        "\n",
        "    elif tipo_agrupamento == 'DATA':\n",
        "        agrupamento = agrupar_registros(registros, 'DATA')\n",
        "    else:\n",
        "        raise ValueError(\"Opção de filtro inválida.\")\n",
        "\n",
        "except ValueError as ve:\n",
        "    print(f\"Erro de valor: {ve}\")\n",
        "except Exception as e:\n",
        "    print(f\"Ocorreu um erro: {e}\")\n",
        "\n",
        "print(agrupamento)\n"
      ]
    },
    {
      "cell_type": "markdown",
      "metadata": {
        "id": "UFsFxiEHRE97"
      },
      "source": [
        "Atualizações de Montantes"
      ]
    },
    {
      "cell_type": "code",
      "execution_count": null,
      "metadata": {
        "id": "ndjp-0j2RE97"
      },
      "outputs": [],
      "source": [
        "atualizar_rendimento = input('Gostaria de atualizar os rendimentos? (S/N)').strip().upper()\n",
        "\n",
        "if atualizar_rendimento == 'S':\n",
        "  print('atualizou')\n",
        "  atualiza_rendimento(registros)\n",
        "\n",
        "\n",
        "for registro in registros:\n",
        "    print(registro)"
      ]
    },
    {
      "cell_type": "code",
      "execution_count": null,
      "metadata": {
        "id": "FKjzwYUBjSBG"
      },
      "outputs": [],
      "source": [
        "exportar_relatorio('csv')\n",
        "exportar_relatorio('json')"
      ]
    },
    {
      "cell_type": "code",
      "execution_count": null,
      "metadata": {
        "id": "dp8Iu94E-jsg"
      },
      "outputs": [],
      "source": [
        "while True:\n",
        "    clear_output(wait=True)\n",
        "    operacao = input(\"\"\"\n",
        "        Qual operação voce deseja executar?\\n\n",
        "        1 - Criar um novo registro \\n\n",
        "        2 - Atualizar um registro \\n\n",
        "        3 - Excluir um registro \\n\n",
        "        4 - Visualizar relatório completo \\n\n",
        "        5 - Exportar relatório \\n\n",
        "        6 - Agrupar registros \\n\n",
        "        7 - Atualizar rendimentos \\n\n",
        "        0 - Sair \\n\n",
        "    \"\"\").strip()\n",
        "    if operacao.isdigit():\n",
        "        operacao = int(operacao)\n",
        "        if operacao == 0:\n",
        "            print(\"Até mais!\")\n",
        "            break\n",
        "        elif operacao == 1:\n",
        "          try:\n",
        "              tipo = input(\"Digite o tipo de registro (RECEITA, DESPESAS, INVESTIMENTOS): \").upper()\n",
        "              if tipo not in EnumTipoRegistro.__members__:\n",
        "                  raise ValueError(\"Tipo de registro inválido.\")\n",
        "              tipo_registro = EnumTipoRegistro[tipo]\n",
        "\n",
        "              valor = float(input(\"Digite o valor: \"))\n",
        "              if valor <= 0:\n",
        "                  raise ValueError(\"O valor deve ser positivo.\")\n",
        "\n",
        "              if tipo_registro == EnumTipoRegistro.INVESTIMENTOS:\n",
        "                  taxa = float(input(\"Digite a taxa de rendimento: \"))\n",
        "                  if taxa <= 0:\n",
        "                      raise ValueError(\"A taxa de rendimento deve ser positiva.\")\n",
        "              else:\n",
        "                  taxa = 'X'\n",
        "\n",
        "              data = input('Digite a data no formato dia/mês/ano ou deixe em branco para usar data atual')\n",
        "              if data.strip() != '':\n",
        "                  try:\n",
        "                      data_datetime = datetime.strptime(data, \"%d/%m/%Y\")\n",
        "                      criar_registro(tipo_registro, valor, registros, taxa, data_datetime)\n",
        "                  except ValueError:\n",
        "                      criar_registro(tipo_registro, valor, registros, taxa)\n",
        "              else:\n",
        "                  criar_registro(tipo_registro, valor, registros, taxa)\n",
        "          except ValueError as ve:\n",
        "              print(f\"Erro de valor: {ve}\")\n",
        "          except Exception as e:\n",
        "              print(f\"Ocorreu um erro: {e}\")\n",
        "\n",
        "        elif operacao == 2:\n",
        "          printar_relatorio()\n",
        "          index = int(input(\"Digite o índice do registro que deseja atualizar: \")) - 1\n",
        "          if index < 0 or index >= len(registros):\n",
        "              raise IndexError(\"Índice inválido.\")\n",
        "\n",
        "          novo_tipo = input(\"Digite o novo tipo de registro (RECEITA, DESPESAS, INVESTIMENTOS): \").upper()\n",
        "          if novo_tipo not in EnumTipoRegistro.__members__:\n",
        "              raise ValueError(\"Tipo de registro inválido.\")\n",
        "          tipo_registro = EnumTipoRegistro[novo_tipo]\n",
        "\n",
        "          novo_valor = float(input(\"Digite o novo valor: \"))\n",
        "          if novo_valor <= 0:\n",
        "              raise ValueError(\"O valor deve ser positivo.\")\n",
        "\n",
        "          if novo_tipo.upper() == 'INVESTIMENTOS':\n",
        "              nova_taxa = float(input(\"Digite a nova taxa de rendimento: \"))\n",
        "              if nova_taxa <= 0:\n",
        "                  raise ValueError(\"A taxa de rendimento deve ser positiva.\")\n",
        "\n",
        "          atualizar_registro(index, registros, EnumTipoRegistro[novo_tipo], novo_valor)\n",
        "        elif operacao == 3:\n",
        "          printar_relatorio()\n",
        "          index = int(input(\"Digite o índice do registro que deseja deletar: \")) - 1\n",
        "          if index < 0 or index >= len(registros):\n",
        "              raise IndexError(\"Índice inválido.\")\n",
        "\n",
        "          del registros[index]\n",
        "\n",
        "        elif operacao == 4:\n",
        "          printar_relatorio()\n",
        "        elif operacao == 5:\n",
        "            exportar_relatorio('csv')\n",
        "            exportar_relatorio('json')\n",
        "        elif operacao == 6:\n",
        "          try:\n",
        "              tipo_agrupamento = input('Você deseja agrupar os registros por Valor, Tipo ou Data? ').strip().upper()\n",
        "\n",
        "              if tipo_agrupamento == 'VALOR':\n",
        "                  agrupamento = agrupar_registros(registros, 'VALOR')\n",
        "\n",
        "              elif tipo_agrupamento == 'TIPO':\n",
        "                  agrupamento = agrupar_registros(registros, 'TIPO')\n",
        "\n",
        "              elif tipo_agrupamento == 'DATA':\n",
        "                  agrupamento = agrupar_registros(registros, 'DATA')\n",
        "              else:\n",
        "                  raise ValueError(\"Opção de filtro inválida.\")\n",
        "\n",
        "          except ValueError as ve:\n",
        "              print(f\"Erro de valor: {ve}\")\n",
        "          except Exception as e:\n",
        "              print(f\"Ocorreu um erro: {e}\")\n",
        "\n",
        "          print(agrupamento)\n",
        "        elif operacao == 7:\n",
        "          atualizar_rendimento = input('Gostaria de atualizar os rendimentos? (S/N)').strip().upper()\n",
        "\n",
        "          if atualizar_rendimento == 'S':\n",
        "            print('atualizou')\n",
        "            atualiza_rendimento(registros)\n",
        "\n",
        "\n",
        "          for registro in registros:\n",
        "              print(registro)\n",
        "        else:\n",
        "            print(\"Opção inválida\")\n",
        "            continue\n",
        "    else:\n",
        "        print(\"Opção inválida\")\n",
        "        continue\n"
      ]
    },
    {
      "cell_type": "markdown",
      "metadata": {
        "id": "o87XV2sogeqt"
      },
      "source": [
        "# Extra: Transformando o nosso arquivo csv em google spreadsheet e salvando-o no google drive"
      ]
    },
    {
      "cell_type": "markdown",
      "metadata": {
        "id": "M_BRkUlrgiiu"
      },
      "source": [
        "Importanto as bibliotecas\n"
      ]
    },
    {
      "cell_type": "code",
      "execution_count": null,
      "metadata": {
        "id": "GqZQoPuqgUZF"
      },
      "outputs": [],
      "source": [
        "from google.colab import auth\n",
        "from googleapiclient.discovery import build\n",
        "from googleapiclient.http import MediaFileUpload\n"
      ]
    },
    {
      "cell_type": "markdown",
      "metadata": {
        "id": "EPlfrebignvY"
      },
      "source": [
        "Realizando a autenticação para salvar o arquivo no drive"
      ]
    },
    {
      "cell_type": "code",
      "execution_count": null,
      "metadata": {
        "id": "QkUgHQcYglEG"
      },
      "outputs": [],
      "source": [
        "auth.authenticate_user()\n",
        "\n",
        "drive_service = build('drive', 'v3')"
      ]
    },
    {
      "cell_type": "markdown",
      "metadata": {
        "id": "OTU-jZ6kg5zO"
      },
      "source": [
        "Criando o arquivo .spreadsheet e salvando o mesmo no drive"
      ]
    },
    {
      "cell_type": "code",
      "execution_count": null,
      "metadata": {
        "id": "-Ub1ffGxgriz"
      },
      "outputs": [],
      "source": [
        "file_path = 'relatorio.csv'\n",
        "\n",
        "file_metadata = {\n",
        "    'name': 'relatorio_financeiro_ada',\n",
        "    'mimeType': 'application/vnd.google-apps.spreadsheet'\n",
        "}\n",
        "\n",
        "media = MediaFileUpload(file_path, mimetype='text/csv', resumable=True)\n",
        "created_file = drive_service.files().create(body=file_metadata, media_body=media, fields='id').execute()\n",
        "\n",
        "print(f'Arquivo criado com ID: {created_file.get(\"id\")}')\n"
      ]
    },
    {
      "cell_type": "code",
      "execution_count": null,
      "metadata": {
        "id": "MyR_p5gng7_h"
      },
      "outputs": [],
      "source": []
    }
  ],
  "metadata": {
    "colab": {
      "private_outputs": true,
      "provenance": []
    },
    "kernelspec": {
      "display_name": "Python 3",
      "language": "python",
      "name": "python3"
    },
    "language_info": {
      "codemirror_mode": {
        "name": "ipython",
        "version": 3
      },
      "file_extension": ".py",
      "mimetype": "text/x-python",
      "name": "python",
      "nbconvert_exporter": "python",
      "pygments_lexer": "ipython3",
      "version": "3.10.9"
    }
  },
  "nbformat": 4,
  "nbformat_minor": 0
}
