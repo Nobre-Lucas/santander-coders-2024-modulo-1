{
 "cells": [
  {
   "cell_type": "markdown",
   "metadata": {},
   "source": [
    "# Santa Ada Bank"
   ]
  },
  {
   "cell_type": "code",
   "execution_count": 2,
   "metadata": {},
   "outputs": [],
   "source": [
    "import csv"
   ]
  },
  {
   "cell_type": "code",
   "execution_count": 13,
   "metadata": {},
   "outputs": [],
   "source": [
    "registros = []"
   ]
  },
  {
   "cell_type": "code",
   "execution_count": 14,
   "metadata": {},
   "outputs": [],
   "source": [
    "def criar_registro(tipo: str, valor: float):\n",
    "    registro = []\n",
    "    tipo_upper = tipo.upper()\n",
    "    if tipo_upper == 'RECEITA':\n",
    "        registro.append('31/12/9999')\n",
    "        registro.append(tipo_upper)\n",
    "        registro.append(valor)\n",
    "\n",
    "    registros.append(registro)"
   ]
  },
  {
   "cell_type": "code",
   "execution_count": 15,
   "metadata": {},
   "outputs": [
    {
     "name": "stdout",
     "output_type": "stream",
     "text": [
      "[['31/12/9999', 'RECEITA', 500]]\n"
     ]
    }
   ],
   "source": [
    "criar_registro('receita', 500)\n",
    "print(registros)"
   ]
  },
  {
   "cell_type": "code",
   "execution_count": 16,
   "metadata": {},
   "outputs": [],
   "source": [
    "with open('registros.csv', 'w', newline='') as csvfile:\n",
    "    spamwriter = csv.writer(csvfile, delimiter=';',\n",
    "                            quoting=csv.QUOTE_MINIMAL)\n",
    "    for row in registros:\n",
    "        spamwriter.writerow(row)"
   ]
  },
  {
   "cell_type": "code",
   "execution_count": null,
   "metadata": {},
   "outputs": [],
   "source": [
    "def ler_registro():\n",
    "    pass\n",
    "\n",
    "def atualizar_registro():\n",
    "    pass\n",
    "\n",
    "def deletar_registro():\n",
    "    pass\n",
    "\n",
    "def atualizar_rendimento():\n",
    "    pass\n",
    "\n",
    "def exportar_relatorio():\n",
    "    pass"
   ]
  }
 ],
 "metadata": {
  "kernelspec": {
   "display_name": "Python 3",
   "language": "python",
   "name": "python3"
  },
  "language_info": {
   "codemirror_mode": {
    "name": "ipython",
    "version": 3
   },
   "file_extension": ".py",
   "mimetype": "text/x-python",
   "name": "python",
   "nbconvert_exporter": "python",
   "pygments_lexer": "ipython3",
   "version": "3.10.12"
  }
 },
 "nbformat": 4,
 "nbformat_minor": 2
}
